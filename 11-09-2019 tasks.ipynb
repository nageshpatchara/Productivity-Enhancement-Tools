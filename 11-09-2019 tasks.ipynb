{
 "cells": [
  {
   "cell_type": "markdown",
   "metadata": {},
   "source": [
    "Question-1:\n",
    "Prime Number: need to print the series of all prime numbers till N.\n",
    "Input Format:\n",
    "10\n",
    "Output Format:\n",
    "2 3 5 7"
   ]
  },
  {
   "cell_type": "code",
   "execution_count": 1,
   "metadata": {},
   "outputs": [
    {
     "name": "stdout",
     "output_type": "stream",
     "text": [
      "90\n",
      "2  3  5  7  11  13  17  19  23  29  31  37  41  43  47  49  53  59  61  67  71  73  79  83  89  "
     ]
    }
   ],
   "source": [
    "n=int(input())\n",
    "count=0\n",
    "for i in range(2,n+1):\n",
    "    for j in range(2,n//2+1):\n",
    "        if i%j==0:\n",
    "            count+=1\n",
    "    if count<=1:\n",
    "        print(i,end=\"  \")\n",
    "    count=0"
   ]
  },
  {
   "cell_type": "markdown",
   "metadata": {},
   "source": [
    "Question-2:\n",
    "Count Divisors: You have been given 3 integers - l, r and k. Find how many numbers between l and r (both inclusive) are divisible by k.\n",
    "Input Format:\n",
    "1 10 1\n",
    "Output Format:\n",
    "10"
   ]
  },
  {
   "cell_type": "code",
   "execution_count": 2,
   "metadata": {},
   "outputs": [
    {
     "name": "stdout",
     "output_type": "stream",
     "text": [
      "2\n",
      "20\n",
      "2\n",
      "10\n"
     ]
    }
   ],
   "source": [
    "i=int(input())\n",
    "r=int(input())\n",
    "k=int(input())\n",
    "count=0\n",
    "for a in range(i,r+1):\n",
    "    if a%k==0:\n",
    "        count+=1\n",
    "print(count)"
   ]
  },
  {
   "cell_type": "markdown",
   "metadata": {},
   "source": [
    "Question-3:\n",
    "Word Frequency: need to print words with frequency from given sentence (string) in dictionary format\n",
    "Input Format:\n",
    "ravi ramu balu ravi raghu\n",
    "Output Format:\n",
    "{“ravi”:2, “ramu”:1, “balu”:1, “raghu”:1}"
   ]
  },
  {
   "cell_type": "code",
   "execution_count": 4,
   "metadata": {},
   "outputs": [
    {
     "name": "stdout",
     "output_type": "stream",
     "text": [
      "nagesh rajesh nagesh rajesh chandu\n",
      "{'nagesh': 2, 'rajesh': 2, 'chandu': 1}\n"
     ]
    }
   ],
   "source": [
    "n=input()\n",
    "n_names=n.split(\" \")\n",
    "l=len(n_names)\n",
    "c={}\n",
    "for i in range(0,l):\n",
    "    cnt=0\n",
    "    for j in range(0,l):\n",
    "        if n_names[i]==n_names[j]:\n",
    "            cnt+=1\n",
    "    c[n_names[i]]=cnt\n",
    "print(c)"
   ]
  },
  {
   "cell_type": "code",
   "execution_count": null,
   "metadata": {},
   "outputs": [],
   "source": []
  }
 ],
 "metadata": {
  "kernelspec": {
   "display_name": "Python 3",
   "language": "python",
   "name": "python3"
  },
  "language_info": {
   "codemirror_mode": {
    "name": "ipython",
    "version": 3
   },
   "file_extension": ".py",
   "mimetype": "text/x-python",
   "name": "python",
   "nbconvert_exporter": "python",
   "pygments_lexer": "ipython3",
   "version": "3.7.3"
  }
 },
 "nbformat": 4,
 "nbformat_minor": 2
}
